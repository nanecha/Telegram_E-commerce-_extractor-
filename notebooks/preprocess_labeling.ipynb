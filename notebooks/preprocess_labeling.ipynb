{
 "cells": [
  {
   "cell_type": "markdown",
   "id": "d4f0efe9",
   "metadata": {},
   "source": [
    "# Task-2 Label data Subset of Dataset in CoNLL format"
   ]
  },
  {
   "cell_type": "code",
   "execution_count": null,
   "id": "59f5f482",
   "metadata": {
    "vscode": {
     "languageId": "plaintext"
    }
   },
   "outputs": [],
   "source": [
    " import csv\n",
    "import importlib\n",
    "import os\n",
    "import re\n",
    "from telethon import TelegramClient\n",
    "import pytesseract\n",
    "from PIL import Image\n",
    "import unicodedata\n",
    "import emoji\n",
    "import nltk\n",
    "from nltk.tokenize import word_tokenize\n",
    "# from nltk.normalize import word_normalize\n",
    "import pandas as pd\n",
    "import sys\n",
    "sys.path.append('../src')\n",
    "                # F:/Telegram_E-commerce-_extractor-/src')"
   ]
  },
  {
   "cell_type": "markdown",
   "id": "d5817f83",
   "metadata": {},
   "source": [
    "## load data"
   ]
  },
  {
   "cell_type": "code",
   "execution_count": null,
   "id": "84047589",
   "metadata": {
    "vscode": {
     "languageId": "plaintext"
    }
   },
   "outputs": [],
   "source": []
  }
 ],
 "metadata": {
  "language_info": {
   "name": "python"
  }
 },
 "nbformat": 4,
 "nbformat_minor": 5
}
